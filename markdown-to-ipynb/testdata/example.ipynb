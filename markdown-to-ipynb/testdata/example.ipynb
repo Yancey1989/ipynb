{
  "cells": [
    {
      "cell_type": "markdown",
      "metadata": {},
      "source": [
        "# Markdown to Jupyter Notebook Converter\n",
        "\n",
        "This is an example Markdown file.\n",
        "\n",
        "## Fonts\n",
        "\n",
        "It contains all sorts of fonts:\n",
        "\n",
        "- `inline code`\n",
        "- *italian*\n",
        "- **emphasized**\n",
        "- ***very emphasized***\n",
        "\n",
        "## Math\n",
        "This is an inline LaTeX equation $E=mc^2$, and the same equation in\n",
        "display mode:\n",
        "\n",
        "$$E=mc^2$$\n",
        "## Figures\n",
        "It also contains a figure\n",
        "\n",
        "![](figure.png)\n",
        "\n",
        "## Code and Non-code Verbatium\n",
        "It contains Markdown verbatum sections:\n",
        "\n",
        "1. those with Github `python` mark\n",
        "\n"
      ]
    },
    {
      "cell_type": "code",
      "metadata": {
        "editable": true
      },
      "source": [
        "   a = \"Hello\"\n",
        "   print(a + \"!\")\n"
      ],
      "outputs": [
        {
          "name": "stdout",
          "output_type": "stream",
          "text": [
            "\n"
          ]
        }
      ],
      "execution_count": 1
    },
    {
      "cell_type": "markdown",
      "metadata": {},
      "source": [
        "   \n",
        "   and\n",
        "   \n",
        "1. those without language mark\n",
        "\n",
        "   ```\n",
        "   This is a plain verbatium section.\n",
        "   ```\n"
      ]
    }
  ],
  "metadata": {
    "kernelspec": {
      "display_name": "Python 3",
      "language": "python",
      "name": "python3"
    },
    "language_info": {
      "codemirror_mode": {
        "name": "ipython",
        "version": 3
      },
      "file_extension": ".py",
      "mimetype": "text/x-python",
      "name": "python",
      "nbconvert_exporter": "python",
      "pygments_lexer": "ipython3",
      "version": "3.6.0"
    }
  },
  "nbformat": 4,
  "nbformat_minor": 0
}
